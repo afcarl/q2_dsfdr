{
 "cells": [
  {
   "cell_type": "code",
   "execution_count": null,
   "metadata": {},
   "outputs": [],
   "source": [
    "qiime tools import \\\n",
    "--input-path data/deblur-feature-table.biom \\\n",
    "--type 'FeatureTable[Frequency]' \\\n",
    "--source-format BIOMV210Format \\\n",
    "--output-path data/dblr_haddad.qza"
   ]
  },
  {
   "cell_type": "code",
   "execution_count": null,
   "metadata": {},
   "outputs": [],
   "source": [
    "qiime dsfdr permutation-fdr \\\n",
    "--i-table data/dblr_haddad.qza \\\n",
    "--m-metadata-file data/metadata_rare2k.txt \\\n",
    "--m-metadata-category 'exposure_type' \\\n",
    "--o-reject demo/haddad.dsfdr --verbose"
   ]
  },
  {
   "cell_type": "code",
   "execution_count": null,
   "metadata": {},
   "outputs": [],
   "source": [
    "qiime tools export demo/haddad.dsfdr.qza --output-dir demo/haddad.dsfdr.txt"
   ]
  }
 ],
 "metadata": {
  "kernelspec": {
   "display_name": "Python 3",
   "language": "python",
   "name": "python3"
  },
  "language_info": {
   "codemirror_mode": {
    "name": "ipython",
    "version": 3
   },
   "file_extension": ".py",
   "mimetype": "text/x-python",
   "name": "python",
   "nbconvert_exporter": "python",
   "pygments_lexer": "ipython3",
   "version": "3.5.4"
  }
 },
 "nbformat": 4,
 "nbformat_minor": 2
}
